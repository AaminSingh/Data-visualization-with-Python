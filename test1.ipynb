{
 "cells": [
  {
   "cell_type": "markdown",
   "metadata": {},
   "source": [
    "# **Python Practice**"
   ]
  },
  {
   "cell_type": "markdown",
   "metadata": {},
   "source": [
    "## Create all the Data Type of Python in different    `variable`.\n",
    "* Str\n",
    "* Int\n",
    "* FLoat\n",
    "* List\n",
    "* Tuple\n",
    "* Dict\n",
    "* Set"
   ]
  },
  {
   "cell_type": "code",
   "execution_count": 9,
   "metadata": {},
   "outputs": [
    {
     "name": "stdout",
     "output_type": "stream",
     "text": [
      "aamin\n",
      "34\n",
      "56.4\n",
      "['aamin', 'poornima', 'sabreena', 'ankita']\n",
      "{'pushmita', 'monika', 24.3, 89, 'alka', 45, 'sanjeevitha'}\n",
      "anshika aarzoo digvijay samrath 45.4 67.6 67.7 56.8\n",
      "{67, 'anjali', 10, 45, 'aradhya', 'ananya', 'arya', 56}\n"
     ]
    }
   ],
   "source": [
    "name=\"aamin\"\n",
    "print(name)\n",
    "\n",
    "i=34\n",
    "print(i)\n",
    "\n",
    "f=56.4\n",
    "print(f)\n",
    "\n",
    "print(['aamin','poornima','sabreena','ankita'])\n",
    "\n",
    "print({\"monika\",\"sanjeevitha\",\"pushmita\",\"alka\",24.3,45,45,89})\n",
    "\n",
    "print(\"anshika\",\"aarzoo\",\"digvijay\",\"samrath\",45.4,67.6,67.7,56.8)\n",
    "\n",
    "print({\"anjali\",\"ananya\",\"aradhya\",\"arya\",67,45,45,56,10})"
   ]
  },
  {
   "cell_type": "markdown",
   "metadata": {},
   "source": [
    "## Create a list of your 5 friends and name its variable `friend`."
   ]
  },
  {
   "cell_type": "code",
   "execution_count": 10,
   "metadata": {},
   "outputs": [
    {
     "name": "stdout",
     "output_type": "stream",
     "text": [
      "['Aamin', 'Sabreena', 'Poornima', 'Ankita', 'Alka']\n"
     ]
    }
   ],
   "source": [
    "friend=[\"Aamin\",\"Sabreena\",\"Poornima\",\"Ankita\",\"Alka\"]\n"
   ]
  },
  {
   "cell_type": "markdown",
   "metadata": {},
   "source": [
    "## Make them a `Set` and name it `set_friend`."
   ]
  },
  {
   "cell_type": "code",
   "execution_count": 13,
   "metadata": {},
   "outputs": [],
   "source": [
    "set_friend={\"Aamin\",\"Sabreena\",\"Poornima\",\"Ankita\",\"Alka\"}\n",
    "print(set_friend)"
   ]
  },
  {
   "cell_type": "markdown",
   "metadata": {},
   "source": [
    "## Create a dict of students with name `a, b, c, d, e, f` and the number is `20, 12, 14, 15, 18`. "
   ]
  },
  {
   "cell_type": "code",
   "execution_count": 14,
   "metadata": {},
   "outputs": [
    {
     "name": "stdout",
     "output_type": "stream",
     "text": [
      "{'e', 'c', 'd', 12, 14, 15, 18, 20, 'b', 'a'}\n"
     ]
    }
   ],
   "source": [
    "name=({'a','b','c','d','e',20,12,14,18,15})\n",
    "print(name)"
   ]
  },
  {
   "cell_type": "code",
   "execution_count": null,
   "metadata": {},
   "outputs": [],
   "source": []
  },
  {
   "cell_type": "code",
   "execution_count": null,
   "metadata": {},
   "outputs": [],
   "source": []
  },
  {
   "cell_type": "markdown",
   "metadata": {},
   "source": [
    "## What are the rules of `variable`. "
   ]
  },
  {
   "cell_type": "code",
   "execution_count": null,
   "metadata": {},
   "outputs": [],
   "source": [
    "ther should be no space between the variables.\n",
    "variables should not start with any sign or number\n",
    "variables name are case sensitive\n",
    "variable should start\n"
   ]
  },
  {
   "cell_type": "markdown",
   "metadata": {},
   "source": [
    "## Print the table of `5`."
   ]
  },
  {
   "cell_type": "code",
   "execution_count": 4,
   "metadata": {},
   "outputs": [
    {
     "name": "stdout",
     "output_type": "stream",
     "text": [
      "5* 1 = 5\n",
      "5* 2 = 10\n",
      "5* 3 = 15\n",
      "5* 4 = 20\n",
      "5* 5 = 25\n",
      "5* 6 = 30\n",
      "5* 7 = 35\n",
      "5* 8 = 40\n",
      "5* 9 = 45\n",
      "5* 10 = 50\n"
     ]
    }
   ],
   "source": [
    "for i in range(1,11):\n",
    "    print(\"5*\",i,\"=\",5*i)"
   ]
  },
  {
   "cell_type": "markdown",
   "metadata": {},
   "source": [
    "## Print your name `25 times`."
   ]
  },
  {
   "cell_type": "code",
   "execution_count": 7,
   "metadata": {},
   "outputs": [
    {
     "name": "stdout",
     "output_type": "stream",
     "text": [
      "Aamin\n",
      "Aamin\n",
      "Aamin\n",
      "Aamin\n",
      "Aamin\n",
      "Aamin\n",
      "Aamin\n",
      "Aamin\n",
      "Aamin\n",
      "Aamin\n",
      "Aamin\n",
      "Aamin\n",
      "Aamin\n",
      "Aamin\n",
      "Aamin\n",
      "Aamin\n",
      "Aamin\n",
      "Aamin\n",
      "Aamin\n",
      "Aamin\n",
      "Aamin\n",
      "Aamin\n",
      "Aamin\n",
      "Aamin\n",
      "Aamin\n"
     ]
    }
   ],
   "source": [
    "i=0\n",
    "while i<=24:\n",
    "    print('Aamin')\n",
    "    i=i+1\n"
   ]
  },
  {
   "cell_type": "markdown",
   "metadata": {},
   "source": [
    "## Create a list of `Months` and run a while loop print all the names of present in the list until `March` after printing the march break the code."
   ]
  },
  {
   "cell_type": "code",
   "execution_count": null,
   "metadata": {},
   "outputs": [],
   "source": [
    "months=[\"Jan\",\"feb\",\"mar\",\"apr\",\"may\",\"jun\",\"jul\",\"aug\",\"sep\",\"oct\",\"nov\",\"dec\"]\n",
    "df=pd.DataFrame(months)"
   ]
  }
 ],
 "metadata": {
  "kernelspec": {
   "display_name": "Python 3",
   "language": "python",
   "name": "python3"
  },
  "language_info": {
   "codemirror_mode": {
    "name": "ipython",
    "version": 3
   },
   "file_extension": ".py",
   "mimetype": "text/x-python",
   "name": "python",
   "nbconvert_exporter": "python",
   "pygments_lexer": "ipython3",
   "version": "3.12.2"
  }
 },
 "nbformat": 4,
 "nbformat_minor": 2
}
