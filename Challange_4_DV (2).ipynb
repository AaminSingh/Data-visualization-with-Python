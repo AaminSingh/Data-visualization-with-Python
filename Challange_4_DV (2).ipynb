{
  "cells": [
    {
      "cell_type": "markdown",
      "metadata": {
        "id": "0Cr3seJ4eC6Q"
      },
      "source": [
        "Certainly, here are the previous questions adapted for creating bar plots in Colab:\n",
        "\n",
        "**Question 1: Movie Genre Frequency**\n",
        "\n",
        "**Data:**\n",
        "\n",
        "The CSV file contains information about movies:\n",
        "\n",
        "* **Title:** Movie title (string) - **Do not use for plotting**\n",
        "* **Genre:** Movie genre (string)\n",
        "\n",
        "**Task:** Create a bar plot to show the **frequency of movies** belonging to each genre.\n",
        "\n",
        "**Data Example (movies.csv):**\n",
        "\n",
        "```csv\n",
        "Title,Genre\n",
        "The Shawshank Redemption,Drama\n",
        "The Godfather,Crime\n",
        "The Dark Knight,Action,Thriller\n",
        "The Godfather: Part II,Crime\n",
        "Pulp Fiction,Crime,Comedy\n",
        "The Lord of the Rings: The Return of the King,Fantasy,Adventure\n",
        "Schindler's List,Historical Drama\n",
        "12 Angry Men,Drama\n",
        "The Lord of the Rings: The Fellowship of the Ring,Fantasy,Adventure\n",
        "Fight Club,Drama\n",
        "```\n",
        "\n",
        "**Colab Code:**"
      ]
    },
    {
      "cell_type": "code",
      "execution_count": 8,
      "metadata": {},
      "outputs": [],
      "source": [
        "import matplotlib.pyplot as plt\n",
        "import pandas as pd"
      ]
    },
    {
      "cell_type": "code",
      "execution_count": 21,
      "metadata": {},
      "outputs": [],
      "source": [
        "data={\"Title\":['The Shawshank Redemption',\n",
        "'The Godfather',\n",
        "'The Dark Knight',\n",
        "'The Godfather: Part II',\n",
        "'Pulp Fiction',\n",
        "'The Lord of the Rings: The Retur of the King',\n",
        "'Schindlers List',\n",
        "'12 Angry Men',\n",
        "'The Lord of the Rings: The Fellowship of the Ring',\n",
        "'Fight Club'],\n",
        "\"Genre\":['Drama',\n",
        "'Crime',\n",
        "'Action',\n",
        "'Crime',\n",
        "'Crime',\n",
        "'Fantasy',\n",
        "'Historical Drama',\n",
        "'Drama',\n",
        "'Fantasy',\n",
        "'Drama']}"
      ]
    },
    {
      "cell_type": "code",
      "execution_count": 22,
      "metadata": {},
      "outputs": [
        {
          "data": {
            "text/plain": [
              "Text(0, 0.5, 'Genre')"
            ]
          },
          "execution_count": 22,
          "metadata": {},
          "output_type": "execute_result"
        },
        {
          "data": {
            "image/png": "[encoded data removed]",
            "text/plain": [
              "<Figure size 400x600 with 1 Axes>"
            ]
          },
          "metadata": {},
          "output_type": "display_data"
        }
      ],
      "source": [
        "df=pd.DataFrame(data)\n",
        "plt.figure(figsize=(4,6))\n",
        "movies_count=df['Genre'].value_counts().plot(kind='bar')\n",
        "plt.title(\"Frequency of Moviesbelonging to each genre\")\n",
        "plt.xlabel(\"Title\")\n",
        "plt.ylabel(\"Genre\")\n",
        "\n",
        "\n"
      ]
    },
    {
      "cell_type": "markdown",
      "metadata": {
        "id": "hvpg-3IheC6U"
      },
      "source": [
        "**Explanation:**\n",
        "\n",
        "* This code uses `pandas.value_counts` to count the occurrences of each genre.\n",
        "* The `plot(kind='bar')` function creates the bar plot.\n",
        "\n",
        "**Question 2: Plant Growth Stages**\n",
        "\n",
        "**Data:**\n",
        "\n",
        "Imagine you have data on plant growth stages:\n",
        "\n",
        "* **Plant Name:** Name of the plant (string) - **Do not use for plotting**\n",
        "* **Growth Stage:** Current growth stage of the plant (string)\n",
        "\n",
        "**Task:** Create a bar plot to visualize the **distribution of plants** across different growth stages.\n",
        "\n",
        "**Data Example:** (This data can be hypothetical and doesn't require a CSV file)\n",
        "\n",
        "| Plant Name | Growth Stage |\n",
        "|---|---|\n",
        "| Plant A | Seedling |\n",
        "| Plant B | Sprout |\n",
        "| Plant C | Vegetative |\n",
        "| Plant D | Flowering |\n",
        "| Plant E | Fruiting |\n",
        "\n",
        "**Colab Code:**"
      ]
    },
    {
      "cell_type": "code",
      "execution_count": 24,
      "metadata": {},
      "outputs": [],
      "source": [
        "import matplotlib.pyplot as plt\n",
        "import pandas as pd"
      ]
    },
    {
      "cell_type": "code",
      "execution_count": 26,
      "metadata": {},
      "outputs": [],
      "source": [
        "data={\"Plant Name\":['plantA','plantB','plantC','plantC','plantD','plantD'],\n",
        "      \"Growth Stage\":['Seedling','sprout','Vegetative','Flowering','Fruiting']}"
      ]
    },
    {
      "cell_type": "code",
      "execution_count": null,
      "metadata": {},
      "outputs": [],
      "source": [
        "df=pd.DataFrame"
      ]
    },
    {
      "cell_type": "markdown",
      "metadata": {
        "id": "78el0jhGeC6V"
      },
      "source": [
        "**Question 3: Online Store - Purchase Frequency by Age Group**\n",
        "\n",
        "**Data:**\n",
        "\n",
        "A CSV file contains customer purchase information for an online store:\n",
        "\n",
        "* **Customer ID:** Unique identifier (string) - **Do not use for plotting**\n",
        "* **Customer Age:** Age of the customer (integer)\n",
        "\n",
        "**Task:** Create a bar plot to show the **frequency of purchases** made by customers within different age groups.\n",
        "\n",
        "**Data Example (online_store.csv):**\n",
        "\n",
        "```csv\n",
        "Customer ID,Customer Age\n",
        "1001,25\n",
        "1002,32\n",
        "1003,48\n",
        "1004,19\n",
        "1005,65\n",
        "1006,28\n",
        "1007,52\n",
        "1008,35\n",
        "1009,18\n",
        "1010,70\n",
        "```\n",
        "\n",
        "**Colab Code:**"
      ]
    },
    {
      "cell_type": "code",
      "execution_count": 27,
      "metadata": {},
      "outputs": [],
      "source": [
        "import matplotlib.pyplot as plt\n",
        "import pandas  as pd"
      ]
    },
    {
      "cell_type": "code",
      "execution_count": 29,
      "metadata": {},
      "outputs": [],
      "source": [
        "data={\"Customer ID\":[1001,1002,1003,1004,1005,1006,1007,1008,1009,1010],\n",
        "      \"Customer Age\":[25,32,48,19,65,28,52,35,18,70]}"
      ]
    },
    {
      "cell_type": "code",
      "execution_count": 30,
      "metadata": {},
      "outputs": [
        {
          "data": {
            "text/plain": [
              "{'Customer ID': [1001, 1002, 1003, 1004, 1005, 1006, 1007, 1008, 1009, 1010],\n",
              " 'Customer Age': [25, 32, 48, 19, 65, 28, 52, 35, 18, 70]}"
            ]
          },
          "execution_count": 30,
          "metadata": {},
          "output_type": "execute_result"
        }
      ],
      "source": [
        "df=pd.DataFrame(data)\n",
        "data"
      ]
    },
    {
      "cell_type": "code",
      "execution_count": 32,
      "metadata": {},
      "outputs": [
        {
          "data": {
            "text/plain": [
              "Text(0.5, 1.0, 'Purchase Frequency by age Group')"
            ]
          },
          "execution_count": 32,
          "metadata": {},
          "output_type": "execute_result"
        },
        {
          "data": {
            "image/png": "[encoded data removed]",
            "text/plain": [
              "<Figure size 640x480 with 1 Axes>"
            ]
          },
          "metadata": {},
          "output_type": "display_data"
        }
      ],
      "source": [
        "count=df['Customer Age'].value_counts().plot(kind='bar')\n",
        "plt.xlabel('Customer ID')\n",
        "plt.ylabel('Customer Age')\n",
        "plt.title(\"Purchase Frequency by age Group\")"
      ]
    }
  ],
  "metadata": {
    "colab": {
      "provenance": []
    },
    "kernelspec": {
      "display_name": "Python 3",
      "name": "python3"
    },
    "language_info": {
      "codemirror_mode": {
        "name": "ipython",
        "version": 3
      },
      "file_extension": ".py",
      "mimetype": "text/x-python",
      "name": "python",
      "nbconvert_exporter": "python",
      "pygments_lexer": "ipython3",
      "version": "3.12.2"
    }
  },
  "nbformat": 4,
  "nbformat_minor": 0
}
