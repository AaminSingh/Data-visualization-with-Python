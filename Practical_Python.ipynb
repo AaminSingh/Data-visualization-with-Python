{
  "nbformat": 4,
  "nbformat_minor": 0,
  "metadata": {
    "colab": {
      "provenance": []
    },
    "kernelspec": {
      "name": "python3",
      "display_name": "Python 3"
    },
    "language_info": {
      "name": "python"
    }
  },
  "cells": [
    {
      "cell_type": "markdown",
      "source": [
        "## Solve the Assignment Data is Given in the code you can run the code and get relvent data"
      ],
      "metadata": {
        "id": "pNtMkP3dc0m2"
      }
    },
    {
      "cell_type": "code",
      "source": [
        "import pandas as pd\n",
        "\n",
        "# Sample customer data\n",
        "data = {\n",
        "    'name': ['Alice', 'Bob', 'Charlie', 'David', 'Emily'],\n",
        "    'age': [25, 30, 22, 40, 18],\n",
        "    'city': ['New York', 'London', 'Paris', 'Tokyo', 'Los Angeles']\n",
        "}\n",
        "\n",
        "df = pd.DataFrame(data)\n",
        "\n",
        "\n",
        "\n",
        "import numpy as np\n",
        "\n",
        "# Sample data with missing values\n",
        "data2 = {\n",
        "    'product': ['A', 'B', 'C', 'A', 'B', None],\n",
        "    'price': [10, 15, None, 20, 25, 30],\n",
        "    'category': ['Electronics', 'Electronics', 'Clothing', 'Electronics', 'Clothing', 'Home']\n",
        "}\n",
        "\n",
        "df2 = pd.DataFrame(data2)\n",
        "\n"
      ],
      "metadata": {
        "id": "gi0Pj0bocooB"
      },
      "execution_count": 3,
      "outputs": []
    },
    {
      "cell_type": "markdown",
      "source": [
        "1. Write a Python program that uses the interpreter interactively to calculate the area of rectengle and area of square."
      ],
      "metadata": {
        "id": "JAmgNa3jZkSY"
      }
    },
    {
      "cell_type": "code",
      "source": [],
      "metadata": {
        "id": "ZPRNgb8ZZqzs"
      },
      "execution_count": null,
      "outputs": []
    },
    {
      "cell_type": "markdown",
      "source": [
        "2. Create Python variables to store your name, age, and favorite food. Print a sentence combining these variables using string formatting"
      ],
      "metadata": {
        "id": "hC_oBHBUZv7Z"
      }
    },
    {
      "cell_type": "code",
      "source": [],
      "metadata": {
        "id": "8yZ7Asg9aCCz"
      },
      "execution_count": null,
      "outputs": []
    },
    {
      "cell_type": "markdown",
      "source": [
        "3. Write a Python program that takes two numbers as input from the user and performs all basic arithmetic operations (addition, subtraction, multiplication, division) on them."
      ],
      "metadata": {
        "id": "3GaEN7a6aC41"
      }
    },
    {
      "cell_type": "code",
      "source": [],
      "metadata": {
        "id": "CtCcmnzKaIAo"
      },
      "execution_count": null,
      "outputs": []
    },
    {
      "cell_type": "markdown",
      "source": [
        "4. Write a Python program that checks if a given number is even or odd using an if statement."
      ],
      "metadata": {
        "id": "nn4VDwxeaJQS"
      }
    },
    {
      "cell_type": "code",
      "source": [],
      "metadata": {
        "id": "BCbs36RaaOlj"
      },
      "execution_count": null,
      "outputs": []
    },
    {
      "cell_type": "markdown",
      "source": [
        "5. Write a Python program that prints the first 10 natural numbers using a while loop."
      ],
      "metadata": {
        "id": "RsYpLHuiaPWi"
      }
    },
    {
      "cell_type": "code",
      "source": [],
      "metadata": {
        "id": "S2qcGtd7aSgX"
      },
      "execution_count": null,
      "outputs": []
    },
    {
      "cell_type": "markdown",
      "source": [
        "6. Create a Python list containing the names of your favorite movies. Write code to access and print the second element in the list."
      ],
      "metadata": {
        "id": "EknM-WFlaTLv"
      }
    },
    {
      "cell_type": "code",
      "source": [],
      "metadata": {
        "id": "G6ydwnuTaW9C"
      },
      "execution_count": null,
      "outputs": []
    },
    {
      "cell_type": "markdown",
      "source": [
        "7. Write a Python function that takes a string as input and returns the number of uppercase and lowercase letters in the string."
      ],
      "metadata": {
        "id": "OcXwOpatadxf"
      }
    },
    {
      "cell_type": "code",
      "source": [],
      "metadata": {
        "id": "hy1dVzgYafYy"
      },
      "execution_count": null,
      "outputs": []
    },
    {
      "cell_type": "markdown",
      "source": [
        "8. Create a DataFrame from a given dictionary containing customer information (name, age, city). Display the first 5 rows and basic information about the DataFrame (shape, data types)."
      ],
      "metadata": {
        "id": "XdWNuSnSayow"
      }
    },
    {
      "cell_type": "code",
      "source": [],
      "metadata": {
        "id": "7yq-lAZeaz7I"
      },
      "execution_count": null,
      "outputs": []
    },
    {
      "cell_type": "markdown",
      "source": [
        "9. Import a sample dataset (e.g., CSV file) using Pandas. Select specific columns (e.g., 'name' and 'age') and display them."
      ],
      "metadata": {
        "id": "oI63xpBva8sD"
      }
    },
    {
      "cell_type": "code",
      "source": [],
      "metadata": {
        "id": "J3g1BIIka9_R"
      },
      "execution_count": null,
      "outputs": []
    },
    {
      "cell_type": "markdown",
      "source": [
        "10. Add a new column to the DataFrame calculated as the square of another column. Rename existing columns if necessary.\n"
      ],
      "metadata": {
        "id": "eBECHSdUbCHB"
      }
    },
    {
      "cell_type": "code",
      "source": [],
      "metadata": {
        "id": "JSCrwVE8bDmr"
      },
      "execution_count": null,
      "outputs": []
    },
    {
      "cell_type": "markdown",
      "source": [
        "11. Select rows where a specific condition is met (e.g., age greater than 18). Filter the DataFrame based on multiple criteria (e.g., age between 25 and 30, city containing 'New York')."
      ],
      "metadata": {
        "id": "eC2FN2mLbL1U"
      }
    },
    {
      "cell_type": "code",
      "source": [],
      "metadata": {
        "id": "apfRgZuzbQ9d"
      },
      "execution_count": null,
      "outputs": []
    },
    {
      "cell_type": "markdown",
      "source": [
        "12. Handle missing values in your DataFrame. Impute missing values with a specific value (e.g., mean, median) or drop rows/columns containing missing data."
      ],
      "metadata": {
        "id": "JptAGd_zbXhx"
      }
    },
    {
      "cell_type": "code",
      "source": [],
      "metadata": {
        "id": "LkP9ti4XbY9Y"
      },
      "execution_count": null,
      "outputs": []
    },
    {
      "cell_type": "markdown",
      "source": [
        "13. Remove duplicate rows from the DataFrame. Optionally, keep only the first or last occurrence of duplicates."
      ],
      "metadata": {
        "id": "HZyemnFMbcCG"
      }
    },
    {
      "cell_type": "code",
      "source": [],
      "metadata": {
        "id": "sscb6bphbc8m"
      },
      "execution_count": null,
      "outputs": []
    },
    {
      "cell_type": "markdown",
      "source": [
        "14. Clean text data in a column by removing leading/trailing whitespaces, converting to uppercase/lowercase."
      ],
      "metadata": {
        "id": "b0qyedpFbdYE"
      }
    },
    {
      "cell_type": "code",
      "source": [],
      "metadata": {
        "id": "LM-WRYfIbl8q"
      },
      "execution_count": null,
      "outputs": []
    },
    {
      "cell_type": "markdown",
      "source": [
        "15. Group data by a specific column and calculate descriptive statistics (mean, standard deviation, count) for each group."
      ],
      "metadata": {
        "id": "pU-go9KzbmiJ"
      }
    },
    {
      "cell_type": "code",
      "source": [],
      "metadata": {
        "id": "m1HxuF5cbtnw"
      },
      "execution_count": null,
      "outputs": []
    },
    {
      "cell_type": "markdown",
      "source": [
        "16. Sort the DataFrame by one or more columns (ascending/descending order)."
      ],
      "metadata": {
        "id": "RvqYTlNmbuHR"
      }
    },
    {
      "cell_type": "code",
      "source": [],
      "metadata": {
        "id": "D2zoyZ4Ybz2x"
      },
      "execution_count": null,
      "outputs": []
    },
    {
      "cell_type": "markdown",
      "source": [
        "17. Calculate summary statistics for numerical columns (mean, median, standard deviation, quartiles) using describe() or specific methods."
      ],
      "metadata": {
        "id": "-jOEJwG1b9OY"
      }
    },
    {
      "cell_type": "code",
      "source": [],
      "metadata": {
        "id": "V86grkvKb-HC"
      },
      "execution_count": null,
      "outputs": []
    },
    {
      "cell_type": "markdown",
      "source": [
        "18. Create new columns derived from existing data (e.g., calculate age groups based on age ranges)."
      ],
      "metadata": {
        "id": "8UgvirN8cDFW"
      }
    },
    {
      "cell_type": "code",
      "source": [],
      "metadata": {
        "id": "BPwYahMbcD7p"
      },
      "execution_count": null,
      "outputs": []
    },
    {
      "cell_type": "markdown",
      "source": [
        "19. Perform aggregations on grouped data (e.g., calculate total sales per product category). Apply aggregation functions with groupby() and agg()."
      ],
      "metadata": {
        "id": "Ezw9-U2UcHZQ"
      }
    },
    {
      "cell_type": "code",
      "source": [],
      "metadata": {
        "id": "MLunKydacUXa"
      },
      "execution_count": null,
      "outputs": []
    },
    {
      "cell_type": "markdown",
      "source": [
        "20. Merge two DataFrames based on a common column using appropriate technique"
      ],
      "metadata": {
        "id": "k5myjxk-cP0h"
      }
    },
    {
      "cell_type": "code",
      "source": [],
      "metadata": {
        "id": "um3evjG7cT3t"
      },
      "execution_count": null,
      "outputs": []
    },
    {
      "cell_type": "markdown",
      "source": [
        "21. Uses a for loop to iterate through a range of numbers (1 to 10).\n",
        "Inside the loop, print the current number multiplied by 2."
      ],
      "metadata": {
        "id": "TNEYQgLsdLqH"
      }
    },
    {
      "cell_type": "code",
      "source": [],
      "metadata": {
        "id": "gmy_bufOdMy1"
      },
      "execution_count": null,
      "outputs": []
    },
    {
      "cell_type": "markdown",
      "source": [
        "22. Guessing Game:\n",
        "\n",
        "Create a Python program for a simple guessing game:\n",
        "\n",
        "Generate a random number between 1 and 100 (use the random module).\n",
        "Allow the user to guess the number within 5 attempts.\n",
        "Use a while loop to keep track of the number of attempts.\n",
        "Inside the loop, get the user's guess as an integer using int(input()).\n",
        "Use if statements to check if the guess is correct, too high, or too low.\n",
        "Provide feedback to the user after each guess, indicating if they need to go higher or lower.\n",
        "If the user guesses correctly within the allowed attempts, print a congratulatory message.\n",
        "If the user fails to guess correctly within 5 attempts, print a message indicating they ran out of chances."
      ],
      "metadata": {
        "id": "VElpG2WndV3H"
      }
    },
    {
      "cell_type": "code",
      "source": [],
      "metadata": {
        "id": "EVBFsJFBdXBS"
      },
      "execution_count": null,
      "outputs": []
    },
    {
      "cell_type": "markdown",
      "source": [
        "23. Finding Even Numbers:\n",
        "\n",
        "Write a Python program that:\n",
        "\n",
        "Takes a list of integers as input from the user.\n",
        "Use a for loop to iterate through the list.\n",
        "Inside the loop, use an if statement to check if the current number is even (use the modulo operator %).\n",
        "If the number is even, print it to the console.\n"
      ],
      "metadata": {
        "id": "XHylgq2YdaPD"
      }
    },
    {
      "cell_type": "code",
      "source": [],
      "metadata": {
        "id": "6sdLsaUDdbQG"
      },
      "execution_count": null,
      "outputs": []
    },
    {
      "cell_type": "markdown",
      "source": [
        "24. Password Checker:\n",
        "\n",
        "Create a Python program for a password checker:\n",
        "\n",
        "Define a variable containing the correct password (e.g., \"secret123\").\n",
        "Prompt the user to enter their password.\n",
        "Use an if statement to check if the entered password matches the correct one.\n",
        "If the passwords match, print a message indicating successful login.\n",
        "If the passwords don't match, use an else statement to print a message indicating incorrect login and allow the user to try again (maximum 3 attempts).\n"
      ],
      "metadata": {
        "id": "d8nhczZ1dk9h"
      }
    },
    {
      "cell_type": "code",
      "source": [],
      "metadata": {
        "id": "k1ptRaDNdl_U"
      },
      "execution_count": null,
      "outputs": []
    },
    {
      "cell_type": "markdown",
      "source": [
        "25. Discount Calculator:\n",
        "\n",
        "Write a Python program that calculates a discount on a product based on its price and discount rate:\n",
        "\n",
        "Prompt the user to enter the product price as a float.\n",
        "Prompt the user to enter the discount rate as a percentage (e.g., 10 would mean 10%).\n",
        "Use an if statement to check if the discount rate is within a valid range (0% to 100%).\n",
        "If the discount rate is valid, calculate the discounted price using the formula discounted_price = price * (1 - discount_rate/100).\n",
        "Print the original price and the discounted price.\n",
        "If the entered discount rate is invalid, use an else statement to print an error message."
      ],
      "metadata": {
        "id": "DsCgcUkcdpXn"
      }
    },
    {
      "cell_type": "code",
      "source": [],
      "metadata": {
        "id": "Tljo5TQbdqbd"
      },
      "execution_count": null,
      "outputs": []
    }
  ]
}