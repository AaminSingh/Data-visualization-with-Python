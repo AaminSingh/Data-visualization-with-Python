{
  "cells": [
    {
      "cell_type": "markdown",
      "metadata": {
        "id": "AX8FvYyMdtCY"
      },
      "source": [
        "Here are the previous questions transformed to utilize histograms in Google Colab:\n",
        "\n",
        "**Question 1: Country Life Expectancy Distribution**\n",
        "\n",
        "**Data:**\n",
        "\n",
        "The CSV file contains information about countries:\n",
        "\n",
        "* **Country:** Name of the country (string) - **Do not use for plotting**\n",
        "* **Life Expectancy:** Average life expectancy at birth (float)\n",
        "\n",
        "**Task:** Create a histogram to analyze the **distribution of life expectancy** across different countries.\n",
        "\n",
        "**Data Example (world_data.csv):**\n",
        "\n",
        "```csv\n",
        "Country,Life Expectancy\n",
        "Japan,84.3\n",
        "Switzerland,84.2\n",
        "Singapore,83.7\n",
        "Australia,82.8\n",
        "Iceland,83.3\n",
        "```\n",
        "\n",
        "**Colab Code:**"
      ]
    },
    {
      "cell_type": "code",
      "execution_count": null,
      "metadata": {},
      "outputs": [],
      "source": [
        "import matplotlib.pyplot as plt\n"
      ]
    },
    {
      "cell_type": "code",
      "execution_count": 3,
      "metadata": {},
      "outputs": [],
      "source": [
        "df={\"Country\":['Japan','Switzerland','Singapore','Australia','Iceland'],\n",
        "      \"Life Expectancy\":[84.3,84.2,83.7,82.8,83.8]}"
      ]
    },
    {
      "cell_type": "code",
      "execution_count": 4,
      "metadata": {},
      "outputs": [
        {
          "ename": "NameError",
          "evalue": "name 'plt' is not defined",
          "output_type": "error",
          "traceback": [
            "\u001b[1;31m---------------------------------------------------------------------------\u001b[0m",
            "\u001b[1;31mNameError\u001b[0m                                 Traceback (most recent call last)",
            "Cell \u001b[1;32mIn[4], line 1\u001b[0m\n\u001b[1;32m----> 1\u001b[0m \u001b[43mplt\u001b[49m\u001b[38;5;241m.\u001b[39mhist(df[\u001b[38;5;124m'\u001b[39m\u001b[38;5;124mLife Expectancy\u001b[39m\u001b[38;5;124m'\u001b[39m],bins\u001b[38;5;241m=\u001b[39m\u001b[38;5;241m5\u001b[39m,edgecolor\u001b[38;5;241m=\u001b[39m\u001b[38;5;124m\"\u001b[39m\u001b[38;5;124mpink\u001b[39m\u001b[38;5;124m\"\u001b[39m)\n\u001b[0;32m      2\u001b[0m plt\u001b[38;5;241m.\u001b[39mxlabel(\u001b[38;5;124m'\u001b[39m\u001b[38;5;124mCountry\u001b[39m\u001b[38;5;124m'\u001b[39m)\n\u001b[0;32m      3\u001b[0m plt\u001b[38;5;241m.\u001b[39mylabel(\u001b[38;5;124m'\u001b[39m\u001b[38;5;124mLife Expectancy\u001b[39m\u001b[38;5;124m'\u001b[39m)\n",
            "\u001b[1;31mNameError\u001b[0m: name 'plt' is not defined"
          ]
        }
      ],
      "source": [
        "\n",
        "plt.hist(df['Life Expectancy'],bins=5,edgecolor=\"pink\")\n",
        "plt.xlabel('Country')\n",
        "plt.ylabel('Life Expectancy')\n",
        "plt.title(\"Country Life Expectancy Distribution\")\n",
        "plt.grid(true)\n",
        "plt.show()"
      ]
    },
    {
      "cell_type": "markdown",
      "metadata": {
        "id": "qsOPGUbidtCc"
      },
      "source": [
        "**Question 2: Flight Distance Distribution**\n",
        "\n",
        "**Data:**\n",
        "\n",
        "Imagine you have data on flights between different cities:\n",
        "\n",
        "* **Origin City:** City of departure (string) - **Do not use for plotting**\n",
        "* **Destination City:** City of arrival (string) - **Do not use for plotting**\n",
        "* **Distance (km):** Distance between the two cities (float)\n",
        "\n",
        "**Task:** Create a histogram to visualize the **distribution of flight distances**.\n",
        "\n",
        "**Data Example:** (This data can be hypothetical and doesn't require a CSV file)\n",
        "\n",
        "| Origin City | Destination City | Distance (km) |\n",
        "|---|---|---|\n",
        "| New York | London | 5575 |\n",
        "| Los Angeles | Tokyo | 8974 |\n",
        "| Paris | Beijing | 8563 |\n",
        "| Dubai | Sydney | 12844 |\n",
        "| Frankfurt | Singapore | 10621 |\n",
        "\n",
        "**Colab Code:**"
      ]
    },
    {
      "cell_type": "markdown",
      "metadata": {
        "id": "baMYXQLodtCc"
      },
      "source": [
        "**Question 3: Employee Salary Distribution**\n",
        "\n",
        "**Data:**\n",
        "\n",
        "A CSV file contains information about company employees:\n",
        "\n",
        "* **Employee Name:** Name of the employee (string) - **Do not use for plotting**\n",
        "* **Years of Experience:** Total years of experience (integer)\n",
        "* **Salary (USD):** Annual salary (float)\n",
        "\n",
        "**Task:** Create a histogram to analyze the **distribution of employee salaries**.\n",
        "\n",
        "**Data Example (employee_data.csv):**\n",
        "\n",
        "```csv\n",
        "Employee Name,Years of Experience,Salary (USD)\n",
        "John Smith,5,75000\n",
        "Jane Doe,8,92000\n",
        "Michael Lee,3,58000\n",
        "Alice Johnson,10,110000\n",
        "```\n",
        "\n",
        "**Colab Code:**"
      ]
    }
  ],
  "metadata": {
    "colab": {
      "provenance": []
    },
    "kernelspec": {
      "display_name": "Python 3",
      "name": "python3"
    },
    "language_info": {
      "codemirror_mode": {
        "name": "ipython",
        "version": 3
      },
      "file_extension": ".py",
      "mimetype": "text/x-python",
      "name": "python",
      "nbconvert_exporter": "python",
      "pygments_lexer": "ipython3",
      "version": "3.12.2"
    }
  },
  "nbformat": 4,
  "nbformat_minor": 0
}
